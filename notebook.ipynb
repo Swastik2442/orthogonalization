{
 "cells": [
  {
   "cell_type": "markdown",
   "metadata": {},
   "source": [
    "<div align=\"Center\">\n",
    "\n",
    "# Orthogonalization and Least Squares Methods\n",
    "## Matrix Computations (AS1209)\n",
    "#### Utkarsh Tailor (2022BTech106)\n",
    "#### Swastik Kulshreshtha (2022BTech105)\n",
    "#### Saurabh Saini (2022BTech093)\n",
    "#### Rajat Paliwal (2022BTech081)\n",
    "#### Rahul Yadav (2022BTech079)\n",
    "### Institute of Engineering and Technology, JK Lakshmipat University\n",
    "\n",
    "</div>\n",
    "<hr>"
   ]
  },
  {
   "cell_type": "markdown",
   "metadata": {},
   "source": [
    "##### Importing Libraries"
   ]
  },
  {
   "cell_type": "code",
   "execution_count": null,
   "metadata": {},
   "outputs": [],
   "source": [
    "from typing import Callable\n",
    "\n",
    "import numpy as np\n",
    "from scipy.io import mmread\n",
    "import plotly.graph_objects as go\n",
    "from numpyarray_to_latex.jupyter import to_jup as prettyPrint"
   ]
  },
  {
   "cell_type": "markdown",
   "metadata": {},
   "source": [
    "##### Utilities"
   ]
  },
  {
   "cell_type": "code",
   "execution_count": null,
   "metadata": {},
   "outputs": [],
   "source": [
    "def getQR(\n",
    "    mat: np.ndarray,\n",
    "    method: Callable[[np.ndarray], tuple[np.ndarray, np.ndarray]],\n",
    "    printPretty: bool = True\n",
    ") -> tuple[np.ndarray, np.ndarray]:\n",
    "    q, r = method(mat)\n",
    "    if not printPretty:\n",
    "        return q, r\n",
    "\n",
    "    if max(q.shape) < 6:\n",
    "        prettyPrint(q, prefix='Q=')\n",
    "        prettyPrint(r, prefix='R=')\n",
    "        prettyPrint(q @ r, prefix='QR=')\n",
    "    else:\n",
    "        print('Q=')\n",
    "        print(q)\n",
    "        print('R=')\n",
    "        print(r)\n",
    "        print('QR=')\n",
    "        print(q @ r)\n",
    "    return q, r"
   ]
  },
  {
   "cell_type": "code",
   "execution_count": null,
   "metadata": {},
   "outputs": [],
   "source": [
    "COLOURS = ('#1f77b4', '#ff7f0e', '#2ca02c', '#d62728', '#9467bd', '#8c564b', '#e377c2', '#7f7f7f', '#bcbd22', '#17becf')\n",
    "\n",
    "def showMatrixAsVectors(\n",
    "    mat: np.ndarray,\n",
    "    fig: go.Figure = None,\n",
    "    names: tuple[str] = None,\n",
    "    colours: tuple[str] = COLOURS\n",
    ") -> None:\n",
    "    showFig = False\n",
    "    if fig is None:\n",
    "        fig = go.Figure()\n",
    "        showFig = True\n",
    "\n",
    "    rows, cols = mat.shape\n",
    "    if rows == 2:\n",
    "        arrows = []\n",
    "        for idx in range(cols):\n",
    "            fig.add_scatter(\n",
    "                x=(0, mat[0][idx]),\n",
    "                y=(0, mat[1][idx]),\n",
    "                mode='lines',\n",
    "                name=f'Vector {idx+1}' if names is None else names[idx],\n",
    "                line=dict(color=colours[idx])\n",
    "            )\n",
    "            arrows.append(dict(\n",
    "                x=mat[0][idx], y=mat[1][idx],\n",
    "                xref='x', yref='y',\n",
    "                axref='x', ayref='y',\n",
    "                ax=0, ay=0,\n",
    "                text='',\n",
    "                showarrow=True,\n",
    "                arrowhead=3,\n",
    "                arrowwidth=1.5,\n",
    "                arrowcolor=colours[idx]\n",
    "            ))\n",
    "        fig.update_layout(annotations=arrows)\n",
    "    elif rows == 3:\n",
    "        for idx in range(cols):\n",
    "            fig.add_scatter3d(\n",
    "                x=(0, mat[0][idx]),\n",
    "                y=(0, mat[1][idx]),\n",
    "                z=(0, mat[2][idx]),\n",
    "                mode='lines',\n",
    "                name=f'Vector {idx+1}' if names is None else names[idx],\n",
    "                line=dict(color=colours[idx])\n",
    "            )\n",
    "            fig.add_cone(\n",
    "                x=(mat[0][idx],),\n",
    "                y=(mat[1][idx],),\n",
    "                z=(mat[2][idx],),\n",
    "                u=(0.2*mat[0][idx],),\n",
    "                v=(0.2*mat[1][idx],),\n",
    "                w=(0.2*mat[2][idx],),\n",
    "                anchor='tip',\n",
    "                hoverinfo='skip',\n",
    "                colorscale=((0, colours[idx]), (1, colours[idx])),\n",
    "                showscale=False\n",
    "            )\n",
    "\n",
    "    if showFig:\n",
    "        fig.show()"
   ]
  },
  {
   "cell_type": "markdown",
   "metadata": {},
   "source": [
    "##### Test Cases"
   ]
  },
  {
   "cell_type": "code",
   "execution_count": null,
   "metadata": {},
   "outputs": [],
   "source": [
    "A = np.array([[2, -1, -2], [-4, 6, 3], [-4, -2, 8]])\n",
    "B = np.array([[1, -4], [2, 3], [2, 2]])\n",
    "C = np.array([[1, 1, 0], [0, 0, 3], [1, -1, 4]])\n",
    "D = np.array([[8], [5], [3]])\n",
    "\n",
    "W = mmread('data/football.mtx').toarray()     # 100x   https://www.cise.ufl.edu/research/sparse/matrices/Newman/football.html\n",
    "X = mmread('data/delaunay_n10.mtx').toarray() # 1000x  https://www.cise.ufl.edu/research/sparse/matrices/DIMACS10/delaunay_n10.html\n",
    "Y = mmread('data/msc01050.mtx').toarray()     # 1000x  https://www.cise.ufl.edu/research/sparse/matrices/Boeing/msc01050.html\n",
    "Z = mmread('data/olm1000.mtx').toarray()      # 1000x  https://www.cise.ufl.edu/research/sparse/matrices/Bai/olm1000.html"
   ]
  },
  {
   "cell_type": "markdown",
   "metadata": {},
   "source": [
    "<hr>\n",
    "\n",
    "## Orthogonalization\n",
    "\n",
    "### QR Factorization\n",
    "\n",
    "Given an $m\\times n$ Matrix $A$, there exists an $m\\times m$ Orthogonal Matrix $Q$ and an $m\\times n$ Upper Triangular Matrix $R$, such that $A=QR$.\n",
    "\n",
    "$$A_{m\\times n}=Q_{m\\times m}R_{m\\times n}$$\n",
    "\n",
    "<hr>"
   ]
  },
  {
   "cell_type": "markdown",
   "metadata": {},
   "source": [
    "### Householder's Method\n",
    "\n",
    "<hr>\n",
    "\n",
    "Given a Non-Zero Vector $x\\neq e_1$, the Householder Matrix $H$ defined by the Vector $V$,\n",
    "\n",
    "$$\\begin{align*}H&=I-\\dfrac{2VV^T}{V^TV}\\\\ V&=x\\pm ||x||_2e_1\\text{ such that}\\\\ Hx&=\\mp ||x||_2e_1\\end{align*}$$\n",
    "\n",
    "Here, $e_1$ is the First Vector of an Identity Matrix of Order $n\\times n$.\n",
    "\n",
    "<hr>"
   ]
  },
  {
   "cell_type": "code",
   "execution_count": null,
   "metadata": {},
   "outputs": [],
   "source": [
    "def getHouseholderMatrix(mat: np.ndarray):\n",
    "    x = mat[:, 0].reshape(-1, 1)\n",
    "    v = np.copy(x)\n",
    "    v[0, 0] += np.sign(x[0, 0]) * np.linalg.norm(x)\n",
    "    v = v / np.linalg.norm(v)\n",
    "    h = np.identity(mat.shape[0]) - 2 * (v @ v.T)\n",
    "    return h\n",
    "\n",
    "def getQRfromHouseholder(mat: np.ndarray):\n",
    "    hhs = []\n",
    "    cols = mat.shape[0]\n",
    "    for i in range(min(mat.shape)):\n",
    "        hcap = getHouseholderMatrix(mat[i:, i:])\n",
    "        hi = np.identity(cols)\n",
    "        hi[i:, i:] = hcap\n",
    "        mat = hi @ mat\n",
    "        hhs.append(hi)\n",
    "\n",
    "    q = np.identity(cols)\n",
    "    for h in hhs[::-1]:\n",
    "        q = h @ q\n",
    "\n",
    "    return q, mat"
   ]
  },
  {
   "cell_type": "markdown",
   "metadata": {},
   "source": [
    "#### Examples"
   ]
  },
  {
   "cell_type": "code",
   "execution_count": null,
   "metadata": {},
   "outputs": [],
   "source": [
    "qHA, rHA = getQR(A, getQRfromHouseholder)"
   ]
  },
  {
   "cell_type": "code",
   "execution_count": null,
   "metadata": {},
   "outputs": [],
   "source": [
    "qHB, rHB = getQR(B, getQRfromHouseholder)"
   ]
  },
  {
   "cell_type": "code",
   "execution_count": null,
   "metadata": {},
   "outputs": [],
   "source": [
    "qHC, rHC = getQR(C, getQRfromHouseholder)"
   ]
  },
  {
   "cell_type": "code",
   "execution_count": null,
   "metadata": {},
   "outputs": [],
   "source": [
    "qHW, rHW = getQR(W, getQRfromHouseholder, False)\n",
    "np.all(np.isclose(qHW @ rHW, W))"
   ]
  },
  {
   "cell_type": "code",
   "execution_count": null,
   "metadata": {},
   "outputs": [],
   "source": [
    "qHX, rHX = getQR(X, getQRfromHouseholder, False)\n",
    "np.all(np.isclose(qHX @ rHX, X))"
   ]
  },
  {
   "cell_type": "code",
   "execution_count": null,
   "metadata": {},
   "outputs": [],
   "source": [
    "qHY, rHY = getQR(Y, getQRfromHouseholder, False)\n",
    "np.all(np.isclose(qHY @ rHY, Y))"
   ]
  },
  {
   "cell_type": "code",
   "execution_count": null,
   "metadata": {},
   "outputs": [],
   "source": [
    "qHZ, rHZ = getQR(Z, getQRfromHouseholder, False)\n",
    "np.all(np.isclose(qHZ @ rHZ, Z))"
   ]
  },
  {
   "cell_type": "markdown",
   "metadata": {},
   "source": [
    "#### Properties"
   ]
  },
  {
   "cell_type": "code",
   "execution_count": null,
   "metadata": {},
   "outputs": [],
   "source": [
    "h = getHouseholderMatrix(D)\n",
    "\n",
    "prettyPrint(D, prefix='u=')\n",
    "prettyPrint(h, prefix='H=')"
   ]
  },
  {
   "cell_type": "markdown",
   "metadata": {},
   "source": [
    "$Hu=-u,H(-u)=u,H^2=I$"
   ]
  },
  {
   "cell_type": "code",
   "execution_count": null,
   "metadata": {},
   "outputs": [],
   "source": [
    "hD = h @ D\n",
    "hhD = h @ hD\n",
    "hh = h @ h\n",
    "\n",
    "prettyPrint(hD, prefix='Hu=')\n",
    "prettyPrint(hhD, prefix='H(Hu)=', suffix='=u')\n",
    "prettyPrint(hh, prefix='H^2=', suffix='=I')"
   ]
  },
  {
   "cell_type": "code",
   "execution_count": null,
   "metadata": {},
   "outputs": [],
   "source": [
    "fig = go.Figure()\n",
    "showMatrixAsVectors(D, fig, ('u',))\n",
    "showMatrixAsVectors(hD, fig, ('Hu',), COLOURS[1:])\n",
    "showMatrixAsVectors(hhD, fig, ('H(Hu)',), COLOURS[2:])\n",
    "fig.show()"
   ]
  },
  {
   "cell_type": "markdown",
   "metadata": {},
   "source": [
    "$H$ is Symmetric"
   ]
  },
  {
   "cell_type": "code",
   "execution_count": null,
   "metadata": {},
   "outputs": [],
   "source": [
    "np.all(np.isclose(h, h.T))"
   ]
  },
  {
   "cell_type": "markdown",
   "metadata": {},
   "source": [
    "$Hv=-v$"
   ]
  },
  {
   "cell_type": "code",
   "execution_count": null,
   "metadata": {},
   "outputs": [],
   "source": [
    "v = D.copy()[:, 0].reshape(-1, 1)\n",
    "v[0, 0] += np.sign(D[0, 0]) * np.linalg.norm(D)\n",
    "v = v / np.linalg.norm(v)\n",
    "hv = h @ v\n",
    "\n",
    "prettyPrint(v, prefix='v=')\n",
    "prettyPrint(hv, prefix='Hv=', suffix='=-v')"
   ]
  },
  {
   "cell_type": "code",
   "execution_count": null,
   "metadata": {},
   "outputs": [],
   "source": [
    "fig = go.Figure()\n",
    "showMatrixAsVectors(v, fig, ('v',))\n",
    "showMatrixAsVectors(hv, fig, ('Hv',), COLOURS[1:])\n",
    "fig.show()"
   ]
  },
  {
   "cell_type": "markdown",
   "metadata": {},
   "source": [
    "#### Figures"
   ]
  },
  {
   "cell_type": "code",
   "execution_count": null,
   "metadata": {},
   "outputs": [],
   "source": [
    "fig = go.Figure()\n",
    "showMatrixAsVectors(A, fig, ('A1', 'A2', 'A3'))\n",
    "showMatrixAsVectors(10*qHA, fig, ('Q1', 'Q2', 'Q3'), COLOURS[3:])\n",
    "fig.show()"
   ]
  },
  {
   "cell_type": "code",
   "execution_count": null,
   "metadata": {},
   "outputs": [],
   "source": [
    "fig = go.Figure()\n",
    "showMatrixAsVectors(B, fig, ('B1', 'B2'))\n",
    "showMatrixAsVectors(3*qHB, fig, ('Q1', 'Q2', 'Q3'), COLOURS[3:])\n",
    "fig.show()"
   ]
  },
  {
   "cell_type": "code",
   "execution_count": null,
   "metadata": {},
   "outputs": [],
   "source": [
    "fig = go.Figure()\n",
    "showMatrixAsVectors(C, fig, ('C1', 'C2', 'C3'))\n",
    "showMatrixAsVectors(3*qHC, fig, ('Q1', 'Q2', 'Q3'), COLOURS[3:])\n",
    "fig.show()"
   ]
  },
  {
   "cell_type": "markdown",
   "metadata": {},
   "source": [
    "### Givens Method\n",
    "\n",
    "<hr>\n",
    "\n",
    "A Matrix of the form\n",
    "\n",
    "$$G(i,k,\\theta)=\\begin{cases}g_{xy}=+\\cos\\theta&\\text{if }x=y=i\\\\ g_{xy}=+\\sin\\theta&\\text{if }x=i,y=k\\\\ g_{xy}=+\\cos\\theta&\\text{if }x=y=k\\\\ g_{xy}=-\\sin\\theta&\\text{if }x=k,y=i\\\\ g_{xy}=1&\\text{else if }x=y\\\\ g_{xy}=0&\\text{otherwise}\\end{cases}$$\n",
    "\n",
    "for some $\\theta$ is called a Givens Matrix.\n",
    "\n",
    "<hr>"
   ]
  },
  {
   "cell_type": "code",
   "execution_count": null,
   "metadata": {},
   "outputs": [],
   "source": [
    "def getGivensMatrix(n: int, m: int, i: int, k: int, theta: float = None, x: np.ndarray = None) -> np.ndarray:\n",
    "    assert i != k, 'i and k must be different'\n",
    "    assert n > 0 and m > 0, 'n and m must be greater than 0'\n",
    "    assert i < n and i < m and k < n and k < m, 'i and k must be less than n and m'\n",
    "    assert not (theta is None and x is None), 'Either theta or x must be provided'\n",
    "\n",
    "    if theta is None:\n",
    "        xi, xk = x[i], x[k]\n",
    "        deno = np.sqrt(xi**2 + xk**2)\n",
    "        cos = xi / deno\n",
    "        sin = -xk / deno\n",
    "    else:\n",
    "        cos = np.cos(theta)\n",
    "        sin = np.sin(theta)\n",
    "\n",
    "    mat = np.eye(n, m)\n",
    "    mat[i][i] = cos\n",
    "    mat[k][k] = cos\n",
    "    mat[i][k] = sin\n",
    "    mat[k][i] = -sin\n",
    "\n",
    "    return mat\n",
    "\n",
    "def getQRfromGivens(a: np.ndarray) -> tuple[np.ndarray, np.ndarray]:\n",
    "    n, m = a.shape    \n",
    "    givens = []\n",
    "    lowerIndices = ((i, j) for i in range(1, n) for j in range(i))\n",
    "    for i, j in lowerIndices:\n",
    "        if a[i][j] == 0:\n",
    "            continue\n",
    "        g = getGivensMatrix(n, m, j, i, x=a.T[j])\n",
    "        a = g.T @ a\n",
    "        givens.append(g)\n",
    "\n",
    "    q = np.eye(n, m)\n",
    "    for g in givens:\n",
    "        q @= g\n",
    "\n",
    "    return q, a"
   ]
  },
  {
   "cell_type": "markdown",
   "metadata": {},
   "source": [
    "#### Examples"
   ]
  },
  {
   "cell_type": "code",
   "execution_count": null,
   "metadata": {},
   "outputs": [],
   "source": [
    "qGA, rGA = getQR(A, getQRfromGivens)"
   ]
  },
  {
   "cell_type": "code",
   "execution_count": null,
   "metadata": {},
   "outputs": [],
   "source": [
    "qGC, rGC = getQR(C, getQRfromGivens)"
   ]
  },
  {
   "cell_type": "code",
   "execution_count": null,
   "metadata": {},
   "outputs": [],
   "source": [
    "qGW, rGW = getQR(W, getQRfromGivens, False)\n",
    "np.all(np.isclose(qGW @ rGW, W))"
   ]
  },
  {
   "cell_type": "code",
   "execution_count": null,
   "metadata": {},
   "outputs": [],
   "source": [
    "qGX, rGX = getQR(X, getQRfromGivens, False)\n",
    "np.all(np.isclose(qGX @ rGX, X))"
   ]
  },
  {
   "cell_type": "code",
   "execution_count": null,
   "metadata": {},
   "outputs": [],
   "source": [
    "qGY, rGY = getQR(Y, getQRfromGivens, False)\n",
    "np.all(np.isclose(qGY @ rGY, Y))"
   ]
  },
  {
   "cell_type": "code",
   "execution_count": null,
   "metadata": {},
   "outputs": [],
   "source": [
    "qGZ, rGZ = getQR(Z, getQRfromGivens, False)\n",
    "np.all(np.isclose(qGZ @ rGZ, Z))"
   ]
  },
  {
   "cell_type": "markdown",
   "metadata": {},
   "source": [
    "#### Figures"
   ]
  },
  {
   "cell_type": "code",
   "execution_count": null,
   "metadata": {},
   "outputs": [],
   "source": [
    "fig = go.Figure()\n",
    "showMatrixAsVectors(A, fig, ('A1', 'A2', 'A3'))\n",
    "showMatrixAsVectors(10*qGA, fig, ('Q1', 'Q2', 'Q3'), COLOURS[3:])\n",
    "fig.show()"
   ]
  },
  {
   "cell_type": "code",
   "execution_count": null,
   "metadata": {},
   "outputs": [],
   "source": [
    "fig = go.Figure()\n",
    "showMatrixAsVectors(C, fig, ('C1', 'C2', 'C3'))\n",
    "showMatrixAsVectors(3*qGC, fig, ('Q1', 'Q2', 'Q3'), COLOURS[3:])\n",
    "fig.show()"
   ]
  },
  {
   "cell_type": "markdown",
   "metadata": {},
   "source": [
    "### Classical & Modified Gram Schmidt Method\n",
    "\n",
    "<hr>"
   ]
  },
  {
   "cell_type": "code",
   "execution_count": null,
   "metadata": {},
   "outputs": [],
   "source": [
    "import numpy as np\n",
    "\n",
    "def getQRfromGramSchmidt(mat: np.ndarray) -> tuple[np.ndarray, np.ndarray]:\n",
    "    m, n = mat.shape\n",
    "    q, r = np.zeros((m, m)), np.zeros((n, n))\n",
    "\n",
    "    for j in range(n):\n",
    "        v = mat[:, j]\n",
    "        for i in range(j):\n",
    "            r[i, j] = q[:, i].T @ mat[:, j]\n",
    "            v = v.squeeze() - (r[i, j] * q[:, i])\n",
    "        r[j, j] = np.linalg.norm(v)\n",
    "        q[:, j] = (v / r[j, j]).squeeze()\n",
    "\n",
    "    return q, r"
   ]
  },
  {
   "cell_type": "markdown",
   "metadata": {},
   "source": [
    "#### Examples"
   ]
  },
  {
   "cell_type": "code",
   "execution_count": null,
   "metadata": {},
   "outputs": [],
   "source": [
    "qSA, rSA = getQR(A, getQRfromGramSchmidt)"
   ]
  },
  {
   "cell_type": "code",
   "execution_count": null,
   "metadata": {},
   "outputs": [],
   "source": [
    "qSC, rSC = getQR(C, getQRfromGramSchmidt)"
   ]
  },
  {
   "cell_type": "code",
   "execution_count": null,
   "metadata": {},
   "outputs": [],
   "source": [
    "qSW, rSW = getQR(W, getQRfromGramSchmidt, False)\n",
    "np.all(np.isclose(qSW @ rSW, W))"
   ]
  },
  {
   "cell_type": "code",
   "execution_count": null,
   "metadata": {},
   "outputs": [],
   "source": [
    "qSX, rSX = getQR(X, getQRfromGramSchmidt, False)\n",
    "np.all(np.isclose(qSX @ rSX, X))"
   ]
  },
  {
   "cell_type": "code",
   "execution_count": null,
   "metadata": {},
   "outputs": [],
   "source": [
    "qSY, rSY = getQR(Y, getQRfromGramSchmidt, False)\n",
    "np.all(np.isclose(qSY @ rSY, Y))"
   ]
  },
  {
   "cell_type": "code",
   "execution_count": null,
   "metadata": {},
   "outputs": [],
   "source": [
    "qSZ, rSZ = getQR(Z, getQRfromGramSchmidt, False)\n",
    "np.all(np.isclose(qSZ @ rSZ, Z))"
   ]
  },
  {
   "cell_type": "markdown",
   "metadata": {},
   "source": [
    "#### Figures"
   ]
  },
  {
   "cell_type": "code",
   "execution_count": null,
   "metadata": {},
   "outputs": [],
   "source": [
    "fig = go.Figure()\n",
    "showMatrixAsVectors(A, fig, ('A1', 'A2', 'A3'))\n",
    "showMatrixAsVectors(10*qSA, fig, ('Q1', 'Q2', 'Q3'), COLOURS[3:])\n",
    "fig.show()"
   ]
  },
  {
   "cell_type": "code",
   "execution_count": null,
   "metadata": {},
   "outputs": [],
   "source": [
    "fig = go.Figure()\n",
    "showMatrixAsVectors(C, fig, ('C1', 'C2', 'C3'))\n",
    "showMatrixAsVectors(3*qSC, fig, ('Q1', 'Q2', 'Q3'), COLOURS[3:])\n",
    "fig.show()"
   ]
  },
  {
   "cell_type": "markdown",
   "metadata": {},
   "source": [
    "### Comparison Figures\n",
    "\n",
    "<hr>"
   ]
  },
  {
   "cell_type": "code",
   "execution_count": null,
   "metadata": {},
   "outputs": [],
   "source": [
    "fig = go.Figure()\n",
    "showMatrixAsVectors(qHA, fig, ('H1', 'H2', 'H3'))\n",
    "showMatrixAsVectors(qGA, fig, ('G1', 'G2', 'G3'), COLOURS[3:])\n",
    "showMatrixAsVectors(qSA, fig, ('S1', 'S2', 'S3'), COLOURS[6:])\n",
    "fig.show()"
   ]
  },
  {
   "cell_type": "code",
   "execution_count": null,
   "metadata": {},
   "outputs": [],
   "source": [
    "fig = go.Figure()\n",
    "showMatrixAsVectors(qHC, fig, ('H1', 'H2', 'H3'))\n",
    "showMatrixAsVectors(qGC, fig, ('G1', 'G2', 'G3'), COLOURS[3:])\n",
    "showMatrixAsVectors(qSC, fig, ('S1', 'S2', 'S3'), COLOURS[6:])\n",
    "fig.show()"
   ]
  },
  {
   "cell_type": "markdown",
   "metadata": {},
   "source": [
    "<hr>\n",
    "\n",
    "## Least Squares Method\n",
    "\n",
    "<hr>"
   ]
  },
  {
   "cell_type": "code",
   "execution_count": null,
   "metadata": {},
   "outputs": [],
   "source": [
    "def leastSquareSolution(A: np.ndarray, b: np.ndarray) -> np.ndarray:\n",
    "    m, n = A.shape\n",
    "\n",
    "    if m >= n:\n",
    "        inv = np.linalg.inv(A.T @ A)\n",
    "        invAT = inv @ A.T\n",
    "        x = invAT @ b\n",
    "    else:\n",
    "        inv = np.linalg.inv(A @ A.T)\n",
    "        aTinv = A.T @ inv\n",
    "        x = aTinv @ b\n",
    "\n",
    "    return x"
   ]
  },
  {
   "cell_type": "code",
   "execution_count": null,
   "metadata": {},
   "outputs": [],
   "source": [
    "xA = leastSquareSolution(A, D)\n",
    "xB = leastSquareSolution(B, D)"
   ]
  },
  {
   "cell_type": "code",
   "execution_count": null,
   "metadata": {},
   "outputs": [],
   "source": [
    "prettyPrint(A, prefix='A=')\n",
    "prettyPrint(D, prefix='b=')\n",
    "prettyPrint(xA, prefix='x=')"
   ]
  },
  {
   "cell_type": "code",
   "execution_count": null,
   "metadata": {},
   "outputs": [],
   "source": [
    "prettyPrint(B, prefix='A=')\n",
    "prettyPrint(D, prefix='b=')\n",
    "prettyPrint(xB, prefix='x=')"
   ]
  },
  {
   "cell_type": "markdown",
   "metadata": {},
   "source": [
    "<hr>"
   ]
  }
 ],
 "metadata": {
  "kernelspec": {
   "display_name": "Python 3",
   "language": "python",
   "name": "python3"
  },
  "language_info": {
   "codemirror_mode": {
    "name": "ipython",
    "version": 3
   },
   "file_extension": ".py",
   "mimetype": "text/x-python",
   "name": "python",
   "nbconvert_exporter": "python",
   "pygments_lexer": "ipython3",
   "version": "3.11.1"
  }
 },
 "nbformat": 4,
 "nbformat_minor": 2
}
