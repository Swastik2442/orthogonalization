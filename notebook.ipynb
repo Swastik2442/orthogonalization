{
 "cells": [
  {
   "cell_type": "markdown",
   "metadata": {},
   "source": [
    "<div align=\"Center\">\n",
    "\n",
    "# Orthogonalization and Least Squares Methods\n",
    "## Matrix Computations (AS1209)\n",
    "### Utkarsh Tailor (2022BTech106)\n",
    "### Swastik Kulshreshtha (2022BTech105)\n",
    "### Saurabh Saini (2022BTech093)\n",
    "### Rajat Paliwal (2022BTech081)\n",
    "### Rahul Yadav (2022BTech079)\n",
    "#### Institute of Engineering and Technology, JK Lakshmipat University\n",
    "\n",
    "</div>\n",
    "<hr>"
   ]
  },
  {
   "cell_type": "markdown",
   "metadata": {},
   "source": [
    "##### Importing Libraries"
   ]
  },
  {
   "cell_type": "code",
   "execution_count": null,
   "metadata": {},
   "outputs": [],
   "source": [
    "from typing import Callable, Tuple\n",
    "\n",
    "import numpy as np\n",
    "import matplotlib.pyplot as plt"
   ]
  },
  {
   "cell_type": "markdown",
   "metadata": {},
   "source": [
    "##### Utilities"
   ]
  },
  {
   "cell_type": "code",
   "execution_count": null,
   "metadata": {},
   "outputs": [],
   "source": [
    "def getRectIdentity(n: int, m: int) -> np.ndarray:\n",
    "    assert n > 0 and m > 0, \"n and m must be greater than 0\"\n",
    "    mat = np.zeros((n, m))\n",
    "    for i in range(min(n, m)):\n",
    "        mat[i][i] = 1\n",
    "    return mat\n",
    "\n",
    "def getQR(mat: np.ndarray, method: Callable[[np.ndarray], Tuple[np.ndarray, np.ndarray]]) -> tuple[np.ndarray, np.ndarray]:\n",
    "    q, r = method(mat)\n",
    "    print(\"Q:\")\n",
    "    print(q)\n",
    "    print(\"\\nR:\")\n",
    "    print(r)\n",
    "    print(\"\\nQR:\")\n",
    "    print(q @ r)\n",
    "    return q, r"
   ]
  },
  {
   "cell_type": "code",
   "execution_count": null,
   "metadata": {},
   "outputs": [],
   "source": [
    "def plot2Dpoints(matrix, ls='--', lw=1.2, colors=None):\n",
    "    x_points, y_points = matrix\n",
    "    size = len(x_points)\n",
    "    colors = ['red', 'blue', 'orange', 'green'] if None else colors\n",
    "    for i in range(size):\n",
    "        plt.plot(x_points[i], y_points[i], color=colors[i], marker='o')\n",
    "        plt.plot(\n",
    "            [x_points[i], x_points[(i+1) % size]], \n",
    "            [y_points[i], y_points[(i+1) % size]], \n",
    "            color=colors[i], \n",
    "            linestyle=ls, linewidth=lw\n",
    "        )\n",
    "\n",
    "def plot3Dpoints(matrix, ls='--', lw=1.2, colors=None):\n",
    "    x_points, y_points, z_points = matrix\n",
    "    size = len(x_points)\n",
    "    colors = ['red', 'blue', 'orange', 'green'] if None else colors\n",
    "    for i in range(size):\n",
    "        plt.plot(x_points[i], y_points[i], z_points[i], color=colors[i], marker='o')\n",
    "        plt.plot(\n",
    "            [x_points[i], x_points[(i+1) % size]], \n",
    "            [y_points[i], y_points[(i+1) % size]], \n",
    "            [z_points[i], z_points[(i+1) % size]],\n",
    "            color=colors[i], \n",
    "            linestyle=ls, linewidth=lw\n",
    "        )"
   ]
  },
  {
   "cell_type": "markdown",
   "metadata": {},
   "source": [
    "##### Test Cases"
   ]
  },
  {
   "cell_type": "code",
   "execution_count": null,
   "metadata": {},
   "outputs": [],
   "source": [
    "A = np.array([[2, -1, -2], [-4, 6, 3], [-4, -2, 8]])\n",
    "B = np.array([[1, -4], [2, 3], [2, 2]])\n",
    "C = np.array([[1, 1, 0], [0, 0, 3], [1, -1, 4]])"
   ]
  },
  {
   "cell_type": "markdown",
   "metadata": {},
   "source": [
    "## Orthogonalization\n",
    "\n",
    "<-- Definitions here -->\n",
    "\n",
    "### QR Factorization\n",
    "\n",
    "Given an $m\\times n$ Matrix $A$, there exists an $m\\times m$ Orthogonal Matrix $Q$ and an $m\\times n$ Upper Triangular Matrix $R$, such that $A=QR$.\n",
    "\n",
    "$$A_{m\\times n}=Q_{m\\times m}R_{m\\times n}$$\n",
    "\n",
    "<hr>"
   ]
  },
  {
   "cell_type": "markdown",
   "metadata": {},
   "source": [
    "### Householder's Method\n",
    "\n",
    "<hr>\n",
    "\n",
    "Given a Non-Zero Vector $x\\neq e_1$, the Householder Matrix $H$ defined by the Vector $V$,\n",
    "\n",
    "$$\\begin{align*}H&=I-\\dfrac{2VV^T}{V^TV}\\\\ V&=x\\pm ||x||_2e_1\\text{ such that}\\\\ Hx&=\\mp ||x||_2e_1\\end{align*}$$\n",
    "\n",
    "Here, $e_1$ is the First Vector of an Identity Matrix of Order $n\\times n$.\n",
    "\n",
    "<hr>"
   ]
  },
  {
   "cell_type": "code",
   "execution_count": null,
   "metadata": {},
   "outputs": [],
   "source": [
    "def getHouseholderMatrix(mat: np.ndarray):\n",
    "    x = mat[:, 0].reshape(-1, 1)\n",
    "    v = np.copy(x)\n",
    "    v[0, 0] += np.sign(x[0, 0]) * np.linalg.norm(x)\n",
    "    v = v / np.linalg.norm(v)\n",
    "    h = np.identity(mat.shape[0]) - 2 * (v @ v.T)\n",
    "    return h\n",
    "\n",
    "def getQRfromHouseholder(mat: np.ndarray):\n",
    "    hhs = []\n",
    "    cols = mat.shape[0]\n",
    "    for i in range(min(mat.shape)):\n",
    "        hcap = getHouseholderMatrix(mat[i:, i:])\n",
    "        hi = np.identity(cols)\n",
    "        hi[i:, i:] = hcap\n",
    "        mat = hi @ mat\n",
    "        hhs.append(hi)\n",
    "\n",
    "    q = np.identity(cols)\n",
    "    for h in hhs[::-1]:\n",
    "        q = h @ q\n",
    "\n",
    "    return q, mat"
   ]
  },
  {
   "cell_type": "code",
   "execution_count": null,
   "metadata": {},
   "outputs": [],
   "source": [
    "qA, rA = getQR(A, getQRfromHouseholder)"
   ]
  },
  {
   "cell_type": "code",
   "execution_count": null,
   "metadata": {},
   "outputs": [],
   "source": [
    "qB, rB = getQR(B, getQRfromHouseholder)"
   ]
  },
  {
   "cell_type": "code",
   "execution_count": null,
   "metadata": {},
   "outputs": [],
   "source": [
    "qC, rC = getQR(C, getQRfromHouseholder)"
   ]
  },
  {
   "cell_type": "markdown",
   "metadata": {},
   "source": [
    "#### Figures"
   ]
  },
  {
   "cell_type": "code",
   "execution_count": null,
   "metadata": {},
   "outputs": [],
   "source": [
    "fig = plt.figure()\n",
    "ax = fig.add_subplot(projection='3d')\n",
    "plot3Dpoints(A, colors=['red']*4)\n",
    "plot3Dpoints(qA, colors=['blue']*4)\n",
    "plot3Dpoints(rA, colors=['green']*4)\n",
    "plt.show()"
   ]
  },
  {
   "cell_type": "code",
   "execution_count": null,
   "metadata": {},
   "outputs": [],
   "source": [
    "fig = plt.figure()\n",
    "ax = fig.add_subplot(projection='3d')\n",
    "plot3Dpoints(C, colors=['red']*4)\n",
    "plot3Dpoints(qC, colors=['blue']*4)\n",
    "plot3Dpoints(rC, colors=['green']*4)\n",
    "plt.show()"
   ]
  },
  {
   "cell_type": "markdown",
   "metadata": {},
   "source": [
    "### Given's Method\n",
    "\n",
    "<hr>"
   ]
  },
  {
   "cell_type": "code",
   "execution_count": null,
   "metadata": {},
   "outputs": [],
   "source": [
    "def getGivensMatrix(n: int, m: int, i: int, k: int, theta: float = None, x: np.ndarray = None) -> np.ndarray:\n",
    "    assert i != k, \"i and k must be different\"\n",
    "    assert n > 0 and m > 0, \"n and m must be greater than 0\"\n",
    "    assert i < n and i < m and k < n and k < m, \"i and k must be less than n and m\"\n",
    "    assert not (theta is None and x is None), \"Either theta or x must be provided\"\n",
    "\n",
    "    if theta is None:\n",
    "        xi, xk = x[i], x[k]\n",
    "        deno = np.sqrt(xi**2 + xk**2)\n",
    "        cos = xi / deno\n",
    "        sin = -xk / deno\n",
    "    else:\n",
    "        cos = np.cos(theta)\n",
    "        sin = np.sin(theta)\n",
    "\n",
    "    mat = getRectIdentity(n, m)\n",
    "    mat[i][i] = cos\n",
    "    mat[k][k] = cos\n",
    "    mat[i][k] = sin\n",
    "    mat[k][i] = -sin\n",
    "\n",
    "    return mat\n",
    "\n",
    "def getQRfromGivens(a: np.ndarray) -> tuple[np.ndarray, np.ndarray]:\n",
    "    n, m = a.shape    \n",
    "    givens = []\n",
    "    lowerIndices = ((i, j) for i in range(1, n) for j in range(i))\n",
    "    for i, j in lowerIndices:\n",
    "        if a[i][j] == 0:\n",
    "            continue\n",
    "        g = getGivensMatrix(n, m, j, i, x=a.T[j])\n",
    "        a = g.T @ a\n",
    "        givens.append(g)\n",
    "\n",
    "    q = getRectIdentity(n, m)\n",
    "    for g in givens:\n",
    "        q = q @ g\n",
    "\n",
    "    return q, a"
   ]
  },
  {
   "cell_type": "code",
   "execution_count": null,
   "metadata": {},
   "outputs": [],
   "source": [
    "qA, rA = getQR(A, getQRfromGivens)"
   ]
  },
  {
   "cell_type": "code",
   "execution_count": null,
   "metadata": {},
   "outputs": [],
   "source": [
    "qC, rC = getQR(C, getQRfromGivens)"
   ]
  },
  {
   "cell_type": "markdown",
   "metadata": {},
   "source": [
    "### Classical & Modified Gram Schmidt Method\n",
    "\n",
    "<hr>"
   ]
  },
  {
   "cell_type": "code",
   "execution_count": null,
   "metadata": {},
   "outputs": [],
   "source": [
    "import numpy as np\n",
    "\n",
    "def getQRfromGramSchmidt(mat: np.ndarray) -> tuple[np.ndarray, np.ndarray]:\n",
    "    m, n = mat.shape\n",
    "    q = np.zeros((m, m))\n",
    "    r = np.zeros((n, n))\n",
    "\n",
    "    for j in range(n):\n",
    "        v = mat[:, j]\n",
    "        for i in range(j):\n",
    "            r[i, j] = q[:, i].T @ mat[:, j]\n",
    "            v = v.squeeze() - (r[i, j] * q[:, i])\n",
    "        r[j, j] = np.linalg.norm(v)\n",
    "        q[:, j] = (v / r[j, j]).squeeze()\n",
    "    \n",
    "    return q, r"
   ]
  },
  {
   "cell_type": "code",
   "execution_count": null,
   "metadata": {},
   "outputs": [],
   "source": [
    "qA, rA = getQR(A, getQRfromGramSchmidt)"
   ]
  },
  {
   "cell_type": "code",
   "execution_count": null,
   "metadata": {},
   "outputs": [],
   "source": [
    "qC, rC = getQR(C, getQRfromGramSchmidt)"
   ]
  },
  {
   "cell_type": "markdown",
   "metadata": {},
   "source": [
    "### Least Squares Method\n",
    "\n",
    "<hr>"
   ]
  },
  {
   "cell_type": "code",
   "execution_count": null,
   "metadata": {},
   "outputs": [],
   "source": [
    "def leastSquareSolution(mat: np.ndarray, b: np.ndarray) -> np.ndarray:\n",
    "    m, n = mat.shape\n",
    "    if m >= n:\n",
    "        aTrasnposeA = (mat.T @ mat)\n",
    "        inv = np.linalg.inv(aTrasnposeA)\n",
    "        invAtranspose = (inv @ np.transpose(mat))\n",
    "        x = (invAtranspose @ b)\n",
    "    else:\n",
    "        ATransposea = (mat @ mat.T)\n",
    "        inv = np.linalg.inv(ATransposea)\n",
    "        invA = (np.transpose(mat) @ inv)\n",
    "        x = (invA @ b)\n",
    "\n",
    "    return x"
   ]
  },
  {
   "cell_type": "code",
   "execution_count": null,
   "metadata": {},
   "outputs": [],
   "source": [
    "xA = leastSquareSolution(A, np.array([1, 2, 3]))\n",
    "xB = leastSquareSolution(B, np.array([1, 2, 3]))"
   ]
  },
  {
   "cell_type": "code",
   "execution_count": null,
   "metadata": {},
   "outputs": [],
   "source": [
    "xA, xB"
   ]
  },
  {
   "cell_type": "markdown",
   "metadata": {},
   "source": [
    "<hr>"
   ]
  }
 ],
 "metadata": {
  "kernelspec": {
   "display_name": "Python 3",
   "language": "python",
   "name": "python3"
  },
  "language_info": {
   "codemirror_mode": {
    "name": "ipython",
    "version": 3
   },
   "file_extension": ".py",
   "mimetype": "text/x-python",
   "name": "python",
   "nbconvert_exporter": "python",
   "pygments_lexer": "ipython3",
   "version": "3.11.1"
  }
 },
 "nbformat": 4,
 "nbformat_minor": 2
}
